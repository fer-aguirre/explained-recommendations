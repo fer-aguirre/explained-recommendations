{
 "cells": [
  {
   "attachments": {},
   "cell_type": "markdown",
   "metadata": {},
   "source": [
    "### Imports"
   ]
  },
  {
   "cell_type": "code",
   "execution_count": 2,
   "metadata": {},
   "outputs": [],
   "source": [
    "import pandas as pd\n",
    "import explained_recommendations.data.load as load"
   ]
  },
  {
   "attachments": {},
   "cell_type": "markdown",
   "metadata": {},
   "source": [
    "### Load data"
   ]
  },
  {
   "cell_type": "code",
   "execution_count": 3,
   "metadata": {},
   "outputs": [],
   "source": [
    "data = load.data_raw"
   ]
  },
  {
   "attachments": {},
   "cell_type": "markdown",
   "metadata": {},
   "source": [
    "### Read data"
   ]
  },
  {
   "cell_type": "code",
   "execution_count": 4,
   "metadata": {},
   "outputs": [],
   "source": [
    "df_raw = pd.read_csv(data)"
   ]
  },
  {
   "attachments": {},
   "cell_type": "markdown",
   "metadata": {},
   "source": [
    "### Process data"
   ]
  },
  {
   "cell_type": "code",
   "execution_count": 13,
   "metadata": {},
   "outputs": [
    {
     "data": {
      "text/html": [
       "<div>\n",
       "<style scoped>\n",
       "    .dataframe tbody tr th:only-of-type {\n",
       "        vertical-align: middle;\n",
       "    }\n",
       "\n",
       "    .dataframe tbody tr th {\n",
       "        vertical-align: top;\n",
       "    }\n",
       "\n",
       "    .dataframe thead th {\n",
       "        text-align: right;\n",
       "    }\n",
       "</style>\n",
       "<table border=\"1\" class=\"dataframe\">\n",
       "  <thead>\n",
       "    <tr style=\"text-align: right;\">\n",
       "      <th></th>\n",
       "      <th>author—story title</th>\n",
       "      <th>short story title</th>\n",
       "      <th>author</th>\n",
       "      <th>genre</th>\n",
       "      <th>original or main publication</th>\n",
       "      <th>anthology/collection, main original editors</th>\n",
       "      <th>word count</th>\n",
       "      <th>logline (short summary)</th>\n",
       "      <th>logline_situation</th>\n",
       "      <th>logline_who</th>\n",
       "      <th>...</th>\n",
       "      <th>alternative and old loglines</th>\n",
       "      <th>honor level and year (formula)</th>\n",
       "      <th>notes for cover image</th>\n",
       "      <th>cover images</th>\n",
       "      <th>general notes</th>\n",
       "      <th>honor level and year (aggregated)</th>\n",
       "      <th>recommender notes</th>\n",
       "      <th>publication date</th>\n",
       "      <th>setting</th>\n",
       "      <th>characters</th>\n",
       "    </tr>\n",
       "  </thead>\n",
       "  <tbody>\n",
       "    <tr>\n",
       "      <th>1582</th>\n",
       "      <td>Kelly Robson—A Human Stain</td>\n",
       "      <td>A Human Stain</td>\n",
       "      <td>Kelly Robson</td>\n",
       "      <td>Horror,Body Horror,Fantasy</td>\n",
       "      <td>\" Tor.com, January 4, 2017\"</td>\n",
       "      <td>NaN</td>\n",
       "      <td>9700.0</td>\n",
       "      <td>An inexperienced governess cares for an orphan...</td>\n",
       "      <td>NaN</td>\n",
       "      <td>NaN</td>\n",
       "      <td>...</td>\n",
       "      <td>NaN</td>\n",
       "      <td>, , , Nebula Award for Best Novelette Winner 2...</td>\n",
       "      <td>NaN</td>\n",
       "      <td>NaN</td>\n",
       "      <td>NaN</td>\n",
       "      <td>Nebula Award for Best Novelette Winner 2018,Th...</td>\n",
       "      <td>NaN</td>\n",
       "      <td>NaN</td>\n",
       "      <td>German countryside, castle, nineteenth-century</td>\n",
       "      <td>lesbian governess, orphaned monster, ambiguous...</td>\n",
       "    </tr>\n",
       "  </tbody>\n",
       "</table>\n",
       "<p>1 rows × 35 columns</p>\n",
       "</div>"
      ],
      "text/plain": [
       "              author—story title short story title        author  \\\n",
       "1582  Kelly Robson—A Human Stain     A Human Stain  Kelly Robson   \n",
       "\n",
       "                           genre original or main publication  \\\n",
       "1582  Horror,Body Horror,Fantasy  \" Tor.com, January 4, 2017\"   \n",
       "\n",
       "     anthology/collection, main original editors  word count  \\\n",
       "1582                                         NaN      9700.0   \n",
       "\n",
       "                                logline (short summary) logline_situation  \\\n",
       "1582  An inexperienced governess cares for an orphan...               NaN   \n",
       "\n",
       "     logline_who  ... alternative and old loglines  \\\n",
       "1582         NaN  ...                          NaN   \n",
       "\n",
       "                         honor level and year (formula) notes for cover image  \\\n",
       "1582  , , , Nebula Award for Best Novelette Winner 2...                   NaN   \n",
       "\n",
       "     cover images general notes  \\\n",
       "1582          NaN           NaN   \n",
       "\n",
       "                      honor level and year (aggregated) recommender notes  \\\n",
       "1582  Nebula Award for Best Novelette Winner 2018,Th...               NaN   \n",
       "\n",
       "     publication date                                         setting  \\\n",
       "1582              NaN  German countryside, castle, nineteenth-century   \n",
       "\n",
       "                                             characters  \n",
       "1582  lesbian governess, orphaned monster, ambiguous...  \n",
       "\n",
       "[1 rows x 35 columns]"
      ]
     },
     "execution_count": 13,
     "metadata": {},
     "output_type": "execute_result"
    }
   ],
   "source": [
    "df = df_raw.copy()\n",
    "df.columns = df.columns.str.lower()\n",
    "df.sample(1)"
   ]
  }
 ],
 "metadata": {
  "kernelspec": {
   "display_name": "explained_recommendations-Vau4SZAD",
   "language": "python",
   "name": "python3"
  },
  "language_info": {
   "codemirror_mode": {
    "name": "ipython",
    "version": 3
   },
   "file_extension": ".py",
   "mimetype": "text/x-python",
   "name": "python",
   "nbconvert_exporter": "python",
   "pygments_lexer": "ipython3",
   "version": "3.8.10"
  },
  "orig_nbformat": 4,
  "vscode": {
   "interpreter": {
    "hash": "34f1e8f149a92c32c4f61b4cfdeb094549f8ef9be6922137bf8fe8a5e7066c4b"
   }
  }
 },
 "nbformat": 4,
 "nbformat_minor": 2
}
